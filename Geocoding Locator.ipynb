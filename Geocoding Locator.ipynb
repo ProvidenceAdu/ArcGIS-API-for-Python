{
 "cells": [
  {
   "cell_type": "markdown",
   "metadata": {},
   "source": [
    "##### Import Libraries"
   ]
  },
  {
   "cell_type": "code",
   "execution_count": 1,
   "metadata": {},
   "outputs": [],
   "source": [
    "import arcpy \n",
    "import pandas as pd \n",
    "import numpy as np\n",
    "import os\n",
    "import glob as gb\n",
    "from time import strftime"
   ]
  },
  {
   "cell_type": "markdown",
   "metadata": {},
   "source": [
    "##### Set Path"
   ]
  },
  {
   "cell_type": "code",
   "execution_count": 2,
   "metadata": {},
   "outputs": [],
   "source": [
    "path = \"C:\\\\Users\\\\padu\\\\Desktop\\\\UrbanInstitute\\\\Proximity Variables\\\\\"\n",
    "os.chdir(path)\n"
   ]
  },
  {
   "cell_type": "markdown",
   "metadata": {},
   "source": [
    "- Set directory to GIS Project\n",
    "- Set working environment "
   ]
  },
  {
   "cell_type": "code",
   "execution_count": 3,
   "metadata": {},
   "outputs": [],
   "source": [
    "GISproject = r\"C:\\\\Users\\\\padu\\\\Desktop\\\\UrbanInstitute\\\\Proximity Variables\\\\Proximity Variables.aprx\"\n",
    "ProjectGDB =  r\"C:\\\\Users\\\\padu\\\\Desktop\\\\UrbanInstitute\\\\Proximity Variables\\\\Proximity Variables.gdb\"\n",
    "arcpy.env.overwriteOutput = True\n",
    "arcpy.env.workspace = ProjectGDB"
   ]
  },
  {
   "cell_type": "markdown",
   "metadata": {},
   "source": [
    "##### Create Locator"
   ]
  },
  {
   "cell_type": "markdown",
   "metadata": {},
   "source": [
    "### Locator NC One 2014"
   ]
  },
  {
   "cell_type": "code",
   "execution_count": 7,
   "metadata": {},
   "outputs": [
    {
     "data": {
      "text/html": [
       "<div class='gpresult'><h2>Messages</h2><div id='messages' data-messages='[\"Start Time: Thursday, April 21, 2022 3:28:59 PM\",\"\",\"\",\"\",\"WARNING 000725: Output Locator: Dataset C:\\\\\\\\Users\\\\\\\\padu\\\\\\\\Desktop\\\\\\\\UrbanInstitute\\\\\\\\Proximity Variables\\\\AddressLocator_2014 already exists.\",\"\",\"\",\"\",\"\",\"\",\"Locator build started\",\"Data processing started\",\"Processing Point Address role\",\"WARNING 002963: Record ObjectID = 57329 from the &#39;Point Address&#39; input dataset has an empty value in required field &#39;House Number&#39;. The record will be skipped.\",\"WARNING 002963: Record ObjectID = 57330 from the &#39;Point Address&#39; input dataset has an empty value in required field &#39;House Number&#39;. The record will be skipped.\",\"WARNING 002963: Record ObjectID = 57335 from the &#39;Point Address&#39; input dataset has an empty value in required field &#39;House Number&#39;. The record will be skipped.\",\"WARNING 002963: Record ObjectID = 57336 from the &#39;Point Address&#39; input dataset has an empty value in required field &#39;House Number&#39;. The record will be skipped.\",\"WARNING 002963: Record ObjectID = 57337 from the &#39;Point Address&#39; input dataset has an empty value in required field &#39;House Number&#39;. The record will be skipped.\",\"WARNING 002963: Record ObjectID = 396533 from the &#39;Point Address&#39; input dataset has an empty value in required field &#39;House Number&#39;. The record will be skipped.\",\"WARNING 002963: Record ObjectID = 396543 from the &#39;Point Address&#39; input dataset has an empty value in required field &#39;House Number&#39;. The record will be skipped.\",\"WARNING 002963: Record ObjectID = 396544 from the &#39;Point Address&#39; input dataset has an empty value in required field &#39;House Number&#39;. The record will be skipped.\",\"WARNING 002963: Record ObjectID = 396545 from the &#39;Point Address&#39; input dataset has an empty value in required field &#39;House Number&#39;. The record will be skipped.\",\"WARNING 002963: Record ObjectID = 396556 from the &#39;Point Address&#39; input dataset has an empty value in required field &#39;House Number&#39;. The record will be skipped.\",\"WARNING 002963: Record ObjectID = 396557 from the &#39;Point Address&#39; input dataset has an empty value in required field &#39;House Number&#39;. The record will be skipped.\",\"WARNING 002963: Record ObjectID = 396558 from the &#39;Point Address&#39; input dataset has an empty value in required field &#39;House Number&#39;. The record will be skipped.\",\"WARNING 002963: Record ObjectID = 396559 from the &#39;Point Address&#39; input dataset has an empty value in required field &#39;House Number&#39;. The record will be skipped.\",\"WARNING 002963: Record ObjectID = 396560 from the &#39;Point Address&#39; input dataset has an empty value in required field &#39;House Number&#39;. The record will be skipped.\",\"WARNING 002963: Record ObjectID = 396571 from the &#39;Point Address&#39; input dataset has an empty value in required field &#39;House Number&#39;. The record will be skipped.\",\"WARNING 002963: Record ObjectID = 396572 from the &#39;Point Address&#39; input dataset has an empty value in required field &#39;House Number&#39;. The record will be skipped.\",\"WARNING 002963: Record ObjectID = 396573 from the &#39;Point Address&#39; input dataset has an empty value in required field &#39;House Number&#39;. The record will be skipped.\",\"WARNING 002963: Record ObjectID = 396574 from the &#39;Point Address&#39; input dataset has an empty value in required field &#39;House Number&#39;. The record will be skipped.\",\"WARNING 002963: Record ObjectID = 396575 from the &#39;Point Address&#39; input dataset has an empty value in required field &#39;House Number&#39;. The record will be skipped.\",\"WARNING 002963: Record ObjectID = 396581 from the &#39;Point Address&#39; input dataset has an empty value in required field &#39;House Number&#39;. The record will be skipped.\",\"WARNING 002963: Record ObjectID = 396582 from the &#39;Point Address&#39; input dataset has an empty value in required field &#39;House Number&#39;. The record will be skipped.\",\"WARNING 002963: Record ObjectID = 396583 from the &#39;Point Address&#39; input dataset has an empty value in required field &#39;House Number&#39;. The record will be skipped.\",\"WARNING 002963: Record ObjectID = 396584 from the &#39;Point Address&#39; input dataset has an empty value in required field &#39;House Number&#39;. The record will be skipped.\",\"WARNING 002963: Record ObjectID = 396585 from the &#39;Point Address&#39; input dataset has an empty value in required field &#39;House Number&#39;. The record will be skipped.\",\"WARNING 002963: Record ObjectID = 396586 from the &#39;Point Address&#39; input dataset has an empty value in required field &#39;House Number&#39;. The record will be skipped.\",\"WARNING 002963: Record ObjectID = 396587 from the &#39;Point Address&#39; input dataset has an empty value in required field &#39;House Number&#39;. The record will be skipped.\",\"WARNING 002963: Record ObjectID = 396588 from the &#39;Point Address&#39; input dataset has an empty value in required field &#39;House Number&#39;. The record will be skipped.\",\"WARNING 002963: Record ObjectID = 396589 from the &#39;Point Address&#39; input dataset has an empty value in required field &#39;House Number&#39;. The record will be skipped.\",\"WARNING 002963: Record ObjectID = 396590 from the &#39;Point Address&#39; input dataset has an empty value in required field &#39;House Number&#39;. The record will be skipped.\",\"WARNING 002963: Record ObjectID = 396591 from the &#39;Point Address&#39; input dataset has an empty value in required field &#39;House Number&#39;. The record will be skipped.\",\"WARNING 002963: Record ObjectID = 396592 from the &#39;Point Address&#39; input dataset has an empty value in required field &#39;House Number&#39;. The record will be skipped.\",\"WARNING 002963: Record ObjectID = 396593 from the &#39;Point Address&#39; input dataset has an empty value in required field &#39;House Number&#39;. The record will be skipped.\",\"WARNING 002963: Record ObjectID = 396594 from the &#39;Point Address&#39; input dataset has an empty value in required field &#39;House Number&#39;. The record will be skipped.\",\"WARNING 002963: Record ObjectID = 396596 from the &#39;Point Address&#39; input dataset has an empty value in required field &#39;House Number&#39;. The record will be skipped.\",\"WARNING 002963: Record ObjectID = 396597 from the &#39;Point Address&#39; input dataset has an empty value in required field &#39;House Number&#39;. The record will be skipped.\",\"WARNING 002963: Record ObjectID = 396598 from the &#39;Point Address&#39; input dataset has an empty value in required field &#39;House Number&#39;. The record will be skipped.\",\"Finished processing data\",\"Finished initializing builder\",\"Initializing country info...\",\"Storing build info...\",\"Building location table...\",\"Building places table...\",\"Building relationships...\",\"Storing search index...\",\"Storing polygons...\",\"Building suggestions structures...\",\"Finalizing locator...\",\"Finished building locator\",\"Succeeded at Thursday, April 21, 2022 3:29:51 PM (Elapsed Time: 51.77 seconds)\"]' data-show='true'><div id = 'default' /></div></div>"
      ],
      "text/plain": [
       "<Result 'C:\\\\\\\\Users\\\\\\\\padu\\\\\\\\Desktop\\\\\\\\UrbanInstitute\\\\\\\\Proximity Variables\\\\AddressLocator_2014'>"
      ]
     },
     "execution_count": 7,
     "metadata": {},
     "output_type": "execute_result"
    }
   ],
   "source": [
    "countrycode = \"USA\"\n",
    "primaryreference = \"AddressNC2014 PointAddress\"\n",
    "field_mapping = \"'PointAddress.FEATURE_ID AddressNC2014.OBJECTID';\"\\\n",
    "                \"'PointAddress.HOUSE_NUMBER AddressNC2014.ADDR_HN';\"\\\n",
    "                \"'PointAddress.STREET_PREFIX_DIR AddressNC2014.ADDR_PD';\"\\\n",
    "                \"'PointAddress.STREET_PREFIX_TYPE  AddressNC2014.ADDR_PT';\"\\\n",
    "                \"'PointAddress.STREET_NAME  AddressNC2014.ADDR_SN';\"\\\n",
    "                \"'PointAddress.STREET_SUFFIX_TYPE  AddressNC2014.ADDR_ST';\"\\\n",
    "                \"'PointAddress.STREET_SUFFIX_DIR AddressNC2014.ADDR_SD';\"\\\n",
    "                \"'PointAddress.FULL_STREET_NAME AddressNC2014.FULL_ADDRESS';\"\\\n",
    "                \"'PointAddress.SUB_ADDRESS_UNIT AddressNC2014.APT_UNIT';\"\\\n",
    "                \"'PointAddress.SUBREGION AddressNC2014.COUNTY_NAME';\"\\\n",
    "                \"'PointAddress.REGION AddressNC2014.STATE';\"\\\n",
    "                \"'PointAddress.POSTAL AddressNC2014.ZIPCODE';\"\\\n",
    "                \"'PointAddress.DISPLAY_X AddressNC2014.POINT_X';\"\\\n",
    "                \"'PointAddress.DISPLAY_Y AddressNC2014.POINT_Y'\"\n",
    "out_locator = \"AddressLocator_2014\"\n",
    "languagecode = \"ENG\"\n",
    "\n",
    "arcpy.geocoding.CreateLocator(countrycode, primaryreference, field_mapping, out_locator,\n",
    "                              languagecode, None, None, None, \"GLOBAL_HIGH\")"
   ]
  },
  {
   "cell_type": "markdown",
   "metadata": {},
   "source": [
    "### Locator NC One 2009"
   ]
  },
  {
   "cell_type": "code",
   "execution_count": 8,
   "metadata": {},
   "outputs": [
    {
     "data": {
      "text/html": [
       "<div class='gpresult'><h2>Messages</h2><div id='messages' data-messages='[\"Start Time: Thursday, April 21, 2022 3:29:51 PM\",\"\",\"\",\"\",\"WARNING 000725: Output Locator: Dataset C:\\\\\\\\Users\\\\\\\\padu\\\\\\\\Desktop\\\\\\\\UrbanInstitute\\\\\\\\Proximity Variables\\\\AddressLocator_2009 already exists.\",\"\",\"\",\"\",\"\",\"\",\"Locator build started\",\"Data processing started\",\"Processing Point Address role\",\"WARNING 002963: Record ObjectID = 125 from the &#39;Point Address&#39; input dataset has an empty value in required field &#39;House Number&#39;. The record will be skipped.\",\"WARNING 002963: Record ObjectID = 126 from the &#39;Point Address&#39; input dataset has an empty value in required field &#39;House Number&#39;. The record will be skipped.\",\"WARNING 002963: Record ObjectID = 127 from the &#39;Point Address&#39; input dataset has an empty value in required field &#39;House Number&#39;. The record will be skipped.\",\"WARNING 002963: Record ObjectID = 128 from the &#39;Point Address&#39; input dataset has an empty value in required field &#39;House Number&#39;. The record will be skipped.\",\"WARNING 002963: Record ObjectID = 129 from the &#39;Point Address&#39; input dataset has an empty value in required field &#39;House Number&#39;. The record will be skipped.\",\"WARNING 002963: Record ObjectID = 130 from the &#39;Point Address&#39; input dataset has an empty value in required field &#39;House Number&#39;. The record will be skipped.\",\"WARNING 002963: Record ObjectID = 131 from the &#39;Point Address&#39; input dataset has an empty value in required field &#39;House Number&#39;. The record will be skipped.\",\"WARNING 002963: Record ObjectID = 132 from the &#39;Point Address&#39; input dataset has an empty value in required field &#39;House Number&#39;. The record will be skipped.\",\"WARNING 002963: Record ObjectID = 133 from the &#39;Point Address&#39; input dataset has an empty value in required field &#39;House Number&#39;. The record will be skipped.\",\"WARNING 002963: Record ObjectID = 134 from the &#39;Point Address&#39; input dataset has an empty value in required field &#39;House Number&#39;. The record will be skipped.\",\"WARNING 002963: Record ObjectID = 135 from the &#39;Point Address&#39; input dataset has an empty value in required field &#39;House Number&#39;. The record will be skipped.\",\"WARNING 002963: Record ObjectID = 136 from the &#39;Point Address&#39; input dataset has an empty value in required field &#39;House Number&#39;. The record will be skipped.\",\"WARNING 002963: Record ObjectID = 137 from the &#39;Point Address&#39; input dataset has an empty value in required field &#39;House Number&#39;. The record will be skipped.\",\"WARNING 002963: Record ObjectID = 138 from the &#39;Point Address&#39; input dataset has an empty value in required field &#39;House Number&#39;. The record will be skipped.\",\"WARNING 002963: Record ObjectID = 139 from the &#39;Point Address&#39; input dataset has an empty value in required field &#39;House Number&#39;. The record will be skipped.\",\"WARNING 002963: Record ObjectID = 140 from the &#39;Point Address&#39; input dataset has an empty value in required field &#39;House Number&#39;. The record will be skipped.\",\"Finished processing data\",\"Finished initializing builder\",\"Initializing country info...\",\"Storing build info...\",\"Building location table...\",\"Building places table...\",\"Building relationships...\",\"Storing search index...\",\"Storing polygons...\",\"Building suggestions structures...\",\"Finalizing locator...\",\"Finished building locator\",\"Succeeded at Thursday, April 21, 2022 3:30:33 PM (Elapsed Time: 41.69 seconds)\"]' data-show='true'><div id = 'default' /></div></div>"
      ],
      "text/plain": [
       "<Result 'C:\\\\\\\\Users\\\\\\\\padu\\\\\\\\Desktop\\\\\\\\UrbanInstitute\\\\\\\\Proximity Variables\\\\AddressLocator_2009'>"
      ]
     },
     "execution_count": 8,
     "metadata": {},
     "output_type": "execute_result"
    }
   ],
   "source": [
    "countrycode = \"USA\"\n",
    "primaryreference = \"AddressNC2009 PointAddress\"\n",
    "field_mapping = \"'PointAddress.FEATURE_ID AddressNC2009.OBJECTID';\"\\\n",
    "                \"'PointAddress.HOUSE_NUMBER AddressNC2009.ADDRESS_NU';\"\\\n",
    "                \"'PointAddress.STREET_PREFIX_DIR AddressNC2009.STR_PR_DIR';\"\\\n",
    "                \"'PointAddress.STREET_PREFIX_TYPE AddressNC2009.STR_PR_TYP';\"\\\n",
    "                \"'PointAddress.STREET_NAME AddressNC2009.STR_NAME';\"\\\n",
    "                \"'PointAddress.STREET_SUFFIX_TYPE AddressNC2009.STR_PO_TYP';\"\\\n",
    "                \"'PointAddress.STREET_SUFFIX_DIR AddressNC2009.STR_PO_DIR';\"\\\n",
    "                \"'PointAddress.FULL_STREET_NAME AddressNC2009.COMP_STR';\"\\\n",
    "                \"'PointAddress.POSTAL AddressNC2009.ZIP_CODE';\"\\\n",
    "                \"'PointAddress.DISPLAY_X AddressNC2009.POINT_X';\"\\\n",
    "                \"'PointAddress.DISPLAY_Y AddressNC2009.POINT_Y'\"\n",
    "out_locator = \"AddressLocator_2009\"\n",
    "languagecode = \"ENG\"\n",
    "\n",
    "arcpy.geocoding.CreateLocator(countrycode, primaryreference, field_mapping, out_locator,\n",
    "                              languagecode, None, None, None, \"GLOBAL_HIGH\")"
   ]
  },
  {
   "cell_type": "markdown",
   "metadata": {},
   "source": [
    "### Locator Master List 2015"
   ]
  },
  {
   "cell_type": "code",
   "execution_count": 9,
   "metadata": {},
   "outputs": [
    {
     "data": {
      "text/html": [
       "<div class='gpresult'><h2>Messages</h2><div id='messages' data-messages='[\"Start Time: Thursday, April 21, 2022 3:30:33 PM\",\"\",\"\",\"\",\"\",\"\",\"\",\"\",\"\",\"\",\"Locator build started\",\"Data processing started\",\"Processing Point Address role\",\"Finished processing data\",\"Finished initializing builder\",\"Initializing country info...\",\"Storing build info...\",\"Building location table...\",\"Building places table...\",\"Building relationships...\",\"Storing search index...\",\"Storing polygons...\",\"Building suggestions structures...\",\"Finalizing locator...\",\"Finished building locator\",\"Succeeded at Thursday, April 21, 2022 3:31:31 PM (Elapsed Time: 58.29 seconds)\"]' data-show='true'><div id = 'default' /></div></div>"
      ],
      "text/plain": [
       "<Result 'C:\\\\\\\\Users\\\\\\\\padu\\\\\\\\Desktop\\\\\\\\UrbanInstitute\\\\\\\\Proximity Variables\\\\MAT2015_CreateLocator'>"
      ]
     },
     "execution_count": 9,
     "metadata": {},
     "output_type": "execute_result"
    }
   ],
   "source": [
    "arcpy.geocoding.CreateLocator(\"USA\", \n",
    "                              \"MAT2015 PointAddress\",\n",
    "                              \"'PointAddress.FEATURE_ID MAT2015.OBJECTID';\"\\\n",
    "                              \"'PointAddress.HOUSE_NUMBER MAT2015.txt_street';\"\\\n",
    "                              \"'PointAddress.STREET_NAME MAT2015.nme_street';\"\\\n",
    "                              \"'PointAddress.STREET_SUFFIX_TYPE MAT2015.repl_txt_r';\"\\\n",
    "                              \"'PointAddress.FULL_STREET_NAME MAT2015.address';\"\\\n",
    "                              \"'PointAddress.CITY MAT2015.nme_po_cit';\"\\\n",
    "                              \"'PointAddress.REGION_ABBR MAT2015.state';\"\\\n",
    "                              \"'PointAddress.POSTAL MAT2015.cde_zip1';\"\\\n",
    "                              \"'PointAddress.DISPLAY_X MAT2015.POINT_X';\"\\\n",
    "                              \"'PointAddress.DISPLAY_Y MAT2015.POINT_Y'\",\n",
    "                              \"MAT2015_CreateLocator\", \n",
    "                              \"ENG\", None, None, None, \"GLOBAL_HIGH\")\n"
   ]
  },
  {
   "cell_type": "markdown",
   "metadata": {},
   "source": [
    "### Locator Master List 2021"
   ]
  },
  {
   "cell_type": "code",
   "execution_count": 10,
   "metadata": {},
   "outputs": [
    {
     "data": {
      "text/html": [
       "<div class='gpresult'><h2>Messages</h2><div id='messages' data-messages='[\"Start Time: Thursday, April 21, 2022 3:31:31 PM\",\"\",\"\",\"\",\"\",\"\",\"\",\"\",\"\",\"\",\"Locator build started\",\"Data processing started\",\"Processing Point Address role\",\"Finished processing data\",\"Finished initializing builder\",\"Initializing country info...\",\"Storing build info...\",\"Building location table...\",\"Building places table...\",\"Building relationships...\",\"Storing search index...\",\"Storing polygons...\",\"Building suggestions structures...\",\"Finalizing locator...\",\"Finished building locator\",\"Succeeded at Thursday, April 21, 2022 3:32:33 PM (Elapsed Time: 1 minutes 1 seconds)\"]' data-show='true'><div id = 'default' /></div></div>"
      ],
      "text/plain": [
       "<Result 'C:\\\\\\\\Users\\\\\\\\padu\\\\\\\\Desktop\\\\\\\\UrbanInstitute\\\\\\\\Proximity Variables\\\\MAT2022_CreateLocator'>"
      ]
     },
     "execution_count": 10,
     "metadata": {},
     "output_type": "execute_result"
    }
   ],
   "source": [
    "arcpy.geocoding.CreateLocator(\"USA\", \n",
    "                              \"MAT2022 PointAddress\",\n",
    "                              \"'PointAddress.FEATURE_ID MAT2022.OBJECTID';\"\\\n",
    "                              \"'PointAddress.HOUSE_NUMBER MAT2022.txt_street';\"\\\n",
    "                              \"'PointAddress.STREET_NAME MAT2022.nme_street';\"\\\n",
    "                              \"'PointAddress.STREET_SUFFIX_TYPE MAT2022.repl_txt_r';\"\\\n",
    "                              \"'PointAddress.FULL_STREET_NAME MAT2022.address';\"\\\n",
    "                              \"'PointAddress.CITY MAT2022.nme_po_cit';\"\\\n",
    "                              \"'PointAddress.REGION_ABBR MAT2022.state';\"\\\n",
    "                              \"'PointAddress.POSTAL MAT2022.cde_zip1';\"\\\n",
    "                              \"'PointAddress.DISPLAY_X MAT2022.POINT_X';\"\\\n",
    "                              \"'PointAddress.DISPLAY_Y MAT2022.POINT_Y'\",\n",
    "                              \"MAT2022_CreateLocator\", \n",
    "                              \"ENG\", None, None, None, \"GLOBAL_HIGH\")\n"
   ]
  },
  {
   "cell_type": "markdown",
   "metadata": {},
   "source": [
    "### Create a Locator Street 2002"
   ]
  },
  {
   "cell_type": "code",
   "execution_count": 11,
   "metadata": {},
   "outputs": [
    {
     "data": {
      "text/html": [
       "<div class='gpresult'><h2>Messages</h2><div id='messages' data-messages='[\"Start Time: Thursday, April 21, 2022 3:32:33 PM\",\"\",\"\",\"\",\"\",\"\",\"\",\"\",\"\",\"\",\"Locator build started\",\"Data processing started\",\"Processing Street Address role\",\"WARNING 003105: Record ObjectID = 17256 from the &#39;Street Address&#39; input feature class has multipart geometry. Excluding it from the locator.\",\"WARNING 002976: Record ObjectID = 26076 from the &#39;Street Address&#39; input feature class has NULL geometry. The record will be skipped.\",\"WARNING 002976: Record ObjectID = 31149 from the &#39;Street Address&#39; input feature class has NULL geometry. The record will be skipped.\",\"WARNING 002976: Record ObjectID = 31899 from the &#39;Street Address&#39; input feature class has NULL geometry. The record will be skipped.\",\"WARNING 002976: Record ObjectID = 32023 from the &#39;Street Address&#39; input feature class has NULL geometry. The record will be skipped.\",\"WARNING 002976: Record ObjectID = 32467 from the &#39;Street Address&#39; input feature class has NULL geometry. The record will be skipped.\",\"WARNING 002976: Record ObjectID = 33213 from the &#39;Street Address&#39; input feature class has NULL geometry. The record will be skipped.\",\"WARNING 002976: Record ObjectID = 33345 from the &#39;Street Address&#39; input feature class has NULL geometry. The record will be skipped.\",\"WARNING 002976: Record ObjectID = 35446 from the &#39;Street Address&#39; input feature class has NULL geometry. The record will be skipped.\",\"WARNING 002976: Record ObjectID = 36323 from the &#39;Street Address&#39; input feature class has NULL geometry. The record will be skipped.\",\"WARNING 002963: Record ObjectID = 36450 from the &#39;Street Address&#39; input dataset has an empty value in required field &#39;Street Name&#39;. The record will be skipped.\",\"WARNING 002976: Record ObjectID = 36542 from the &#39;Street Address&#39; input feature class has NULL geometry. The record will be skipped.\",\"WARNING 003105: Record ObjectID = 20574 from the &#39;Street Address&#39; input feature class has multipart geometry. Excluding it from the locator. Number of further occurrences: 8.\",\"WARNING 002969: Values for &#39;Right City Join ID&#39; = &#39;DAVIDSON&#39; are not found in input datasets. Locator will be built without those &#39;City&#39; values.\",\"WARNING 002969: Values for &#39;Right City Join ID&#39; = &#39;CORNELIUS&#39; are not found in input datasets. Locator will be built without those &#39;City&#39; values.\",\"WARNING 002969: Values for &#39;Right City Join ID&#39; = &#39;HUNTERSVILLE&#39; are not found in input datasets. Locator will be built without those &#39;City&#39; values.\",\"WARNING 002969: Values for &#39;Right City Join ID&#39; = &#39;MECKLENBURG&#39; are not found in input datasets. Locator will be built without those &#39;City&#39; values.\",\"WARNING 002969: Values for &#39;Right City Join ID&#39; = &#39;CHARLOTTE&#39; are not found in input datasets. Locator will be built without those &#39;City&#39; values.\",\"WARNING 002969: Values for &#39;Right City Join ID&#39; = &#39;Charlotte&#39; are not found in input datasets. Locator will be built without those &#39;City&#39; values.\",\"WARNING 002969: Values for &#39;Right City Join ID&#39; = &#39;MINT HILL&#39; are not found in input datasets. Locator will be built without those &#39;City&#39; values.\",\"WARNING 002969: Values for &#39;Right City Join ID&#39; = &#39;MATTHEWS&#39; are not found in input datasets. Locator will be built without those &#39;City&#39; values.\",\"WARNING 002969: Values for &#39;Right City Join ID&#39; = &#39;PINEVILLE&#39; are not found in input datasets. Locator will be built without those &#39;City&#39; values.\",\"WARNING 002969: Values for &#39;Right City Join ID&#39; = &#39;MECK&#39; are not found in input datasets. Locator will be built without those &#39;City&#39; values.\",\"WARNING 002969: Values for &#39;Right City Join ID&#39; = &#39; MECKLENBURG&#39; are not found in input datasets. Locator will be built without those &#39;City&#39; values.\",\"WARNING 002969: Values for &#39;Right City Join ID&#39; = &#39;0&#39; are not found in input datasets. Locator will be built without those &#39;City&#39; values.\",\"Finished processing data\",\"Finished initializing builder\",\"Initializing country info...\",\"Storing build info...\",\"Building location table...\",\"Building places table...\",\"Building relationships...\",\"Storing search index...\",\"Storing polygons...\",\"Building suggestions structures...\",\"Finalizing locator...\",\"Finished building locator\",\"Succeeded at Thursday, April 21, 2022 3:32:49 PM (Elapsed Time: 16.67 seconds)\"]' data-show='true'><div id = 'default' /></div></div>"
      ],
      "text/plain": [
       "<Result 'C:\\\\\\\\Users\\\\\\\\padu\\\\\\\\Desktop\\\\\\\\UrbanInstitute\\\\\\\\Proximity Variables\\\\streets_2002'>"
      ]
     },
     "execution_count": 11,
     "metadata": {},
     "output_type": "execute_result"
    }
   ],
   "source": [
    "countrycode = \"USA\"\n",
    "primaryreference = \"streets_2002 StreetAddress\"\n",
    "field_mapping = \"'StreetAddress.FEATURE_ID streets_2002.OBJECTID';\"\\\n",
    "                \"'StreetAddress.HOUSE_NUMBER_FROM_LEFT streets_2002.LL_ADD';\"\\\n",
    "                \"'StreetAddress.HOUSE_NUMBER_TO_LEFT streets_2002.UL_ADD';\"\\\n",
    "                \"'StreetAddress.HOUSE_NUMBER_FROM_RIGHT streets_2002.LR_ADD';\"\\\n",
    "                \"'StreetAddress.HOUSE_NUMBER_TO_RIGHT streets_2002.UR_ADD';\"\\\n",
    "                \"'StreetAddress.STREET_NAME streets_2002.ST_NAME';\"\\\n",
    "                \"'StreetAddress.STREET_SUFFIX_TYPE streets_2002.ST_TYPE';\"\\\n",
    "                \"'StreetAddress.FULL_STREET_NAME streets_2002.WHOLEST';\"\\\n",
    "                \"'StreetAddress.CITY_LEFT streets_2002.L_JURIS';\"\\\n",
    "                \"'StreetAddress.CITY_RIGHT_JOIN_ID streets_2002.R_JURIS';\"\\\n",
    "                \"'StreetAddress.POSTAL_LEFT streets_2002.L_ZIPCODE';\"\\\n",
    "                \"'StreetAddress.POSTAL_RIGHT streets_2002.R_ZIPCODE'\"\n",
    "out_locator = \"streets_2002\"\n",
    "languagecode = \"ENG\"\n",
    "arcpy.geocoding.CreateLocator(countrycode, primaryreference, field_mapping, out_locator,\n",
    "                              languagecode, None, None, None, \"GLOBAL_HIGH\")"
   ]
  },
  {
   "cell_type": "markdown",
   "metadata": {},
   "source": [
    "### Create a Locator Street 2002"
   ]
  },
  {
   "cell_type": "code",
   "execution_count": 18,
   "metadata": {},
   "outputs": [
    {
     "data": {
      "text/html": [
       "<div class='gpresult'><h2>Messages</h2><div id='messages' data-messages='[\"Start Time: Thursday, April 21, 2022 3:42:38 PM\",\"\",\"\",\"\",\"\",\"\",\"\",\"\",\"\",\"\",\"Locator build started\",\"Data processing started\",\"Processing Street Address role\",\"WARNING 002969: Values for &#39;Right City Join ID&#39; = &#39;HUNT&#39; are not found in input datasets. Locator will be built without those &#39;City&#39; values.\",\"WARNING 002969: Values for &#39;Right City Join ID&#39; = &#39;MECK&#39; are not found in input datasets. Locator will be built without those &#39;City&#39; values.\",\"WARNING 002969: Values for &#39;Right City Join ID&#39; = &#39;OTHER&#39; are not found in input datasets. Locator will be built without those &#39;City&#39; values.\",\"WARNING 002969: Values for &#39;Right City Join ID&#39; = &#39;CHAR&#39; are not found in input datasets. Locator will be built without those &#39;City&#39; values.\",\"WARNING 002969: Values for &#39;Right City Join ID&#39; = &#39;MATT&#39; are not found in input datasets. Locator will be built without those &#39;City&#39; values.\",\"WARNING 002969: Values for &#39;Right City Join ID&#39; = &#39;PINE&#39; are not found in input datasets. Locator will be built without those &#39;City&#39; values.\",\"WARNING 002969: Values for &#39;Right City Join ID&#39; = &#39;CORN&#39; are not found in input datasets. Locator will be built without those &#39;City&#39; values.\",\"WARNING 002969: Values for &#39;Right City Join ID&#39; = &#39;MINT&#39; are not found in input datasets. Locator will be built without those &#39;City&#39; values.\",\"WARNING 002969: Values for &#39;Right City Join ID&#39; = &#39;DAVI&#39; are not found in input datasets. Locator will be built without those &#39;City&#39; values.\",\"WARNING 002969: Values for &#39;Right City Join ID&#39; = &#39;STAL&#39; are not found in input datasets. Locator will be built without those &#39;City&#39; values.\",\"Finished processing data\",\"Finished initializing builder\",\"Initializing country info...\",\"Storing build info...\",\"Building location table...\",\"Building places table...\",\"Building relationships...\",\"Storing search index...\",\"Storing polygons...\",\"Building suggestions structures...\",\"Finalizing locator...\",\"Finished building locator\",\"Succeeded at Thursday, April 21, 2022 3:42:52 PM (Elapsed Time: 13.37 seconds)\"]' data-show='true'><div id = 'default' /></div></div>"
      ],
      "text/plain": [
       "<Result 'C:\\\\\\\\Users\\\\\\\\padu\\\\\\\\Desktop\\\\\\\\UrbanInstitute\\\\\\\\Proximity Variables\\\\streets_2022'>"
      ]
     },
     "execution_count": 18,
     "metadata": {},
     "output_type": "execute_result"
    }
   ],
   "source": [
    "countrycode = \"USA\"\n",
    "primaryreference = \"streets_2022 StreetAddress\"\n",
    "field_mapping = \"'StreetAddress.FEATURE_ID streets_2022.OBJECTID';\"\\\n",
    "                \"'StreetAddress.HOUSE_NUMBER_FROM_LEFT streets_2022.ll_add';\"\\\n",
    "                \"'StreetAddress.HOUSE_NUMBER_TO_LEFT streets_2022.ul_add';\"\\\n",
    "                \"'StreetAddress.HOUSE_NUMBER_FROM_RIGHT streets_2022.lr_add';\"\\\n",
    "                \"'StreetAddress.HOUSE_NUMBER_TO_RIGHT streets_2022.ur_add';\"\\\n",
    "                \"'StreetAddress.STREET_NAME streets_2022.streetname';\"\\\n",
    "                \"'StreetAddress.STREET_SUFFIX_TYPE streets_2022.streettype';\"\\\n",
    "                \"'StreetAddress.FULL_STREET_NAME streets_2022.wholestnam';\"\\\n",
    "                \"'StreetAddress.CITY_LEFT streets_2022.l_juris';\"\\\n",
    "                \"'StreetAddress.CITY_RIGHT_JOIN_ID streets_2022.r_juris';\"\\\n",
    "                \"'StreetAddress.POSTAL_LEFT streets_2022.l_zipcode';\"\\\n",
    "                \"'StreetAddress.POSTAL_RIGHT streets_2022.r_zipcode'\"\n",
    "out_locator = \"streets_2022\"\n",
    "languagecode = \"ENG\"\n",
    "arcpy.geocoding.CreateLocator(countrycode, primaryreference, field_mapping, out_locator,\n",
    "                              languagecode, None, None, None, \"GLOBAL_HIGH\")"
   ]
  }
 ],
 "metadata": {
  "kernelspec": {
   "display_name": "Python 3",
   "language": "python",
   "name": "python3"
  },
  "language_info": {
   "codemirror_mode": {
    "name": "ipython",
    "version": 3
   },
   "file_extension": ".py",
   "mimetype": "text/x-python",
   "name": "python",
   "nbconvert_exporter": "python",
   "pygments_lexer": "ipython3",
   "version": "3.7.9"
  }
 },
 "nbformat": 4,
 "nbformat_minor": 4
}
