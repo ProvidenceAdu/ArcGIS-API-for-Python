{
 "cells": [
  {
   "cell_type": "code",
   "execution_count": 28,
   "metadata": {},
   "outputs": [],
   "source": [
    "from arcgis.gis import GIS\n",
    "from arcgis.geocoding import geocode, Geocoder\n",
    "from arcgis.features import FeatureLayer"
   ]
  },
  {
   "cell_type": "code",
   "execution_count": 30,
   "metadata": {},
   "outputs": [],
   "source": [
    "gis = GIS(api_key=\"\")\n",
    "from arcgis.features import FeatureLayer"
   ]
  },
  {
   "cell_type": "code",
   "execution_count": 31,
   "metadata": {
    "scrolled": true
   },
   "outputs": [
    {
     "data": {
      "text/plain": [
       "[{'address': '8213 University Ridge Drive, Charlotte, North Carolina, 28213',\n",
       "  'location': {'x': -80.737413987861, 'y': 35.290282683117},\n",
       "  'score': 100,\n",
       "  'attributes': {'Loc_name': 'World',\n",
       "   'Status': 'M',\n",
       "   'Score': 100,\n",
       "   'Match_addr': '8213 University Ridge Drive, Charlotte, North Carolina, 28213',\n",
       "   'LongLabel': '8213 University Ridge Drive, Charlotte, NC, 28213, USA',\n",
       "   'ShortLabel': '8213 University Ridge Drive',\n",
       "   'Addr_type': 'PointAddress',\n",
       "   'Type': '',\n",
       "   'PlaceName': '',\n",
       "   'Place_addr': '8213 University Ridge Drive, Charlotte, North Carolina, 28213',\n",
       "   'Phone': '',\n",
       "   'URL': '',\n",
       "   'Rank': 20,\n",
       "   'AddBldg': '',\n",
       "   'AddNum': '8213',\n",
       "   'AddNumFrom': '',\n",
       "   'AddNumTo': '',\n",
       "   'AddRange': '',\n",
       "   'Side': '',\n",
       "   'StPreDir': '',\n",
       "   'StPreType': '',\n",
       "   'StName': 'University Ridge',\n",
       "   'StType': 'Drive',\n",
       "   'StDir': '',\n",
       "   'BldgType': '',\n",
       "   'BldgName': '',\n",
       "   'LevelType': '',\n",
       "   'LevelName': '',\n",
       "   'UnitType': '',\n",
       "   'UnitName': '',\n",
       "   'SubAddr': '',\n",
       "   'StAddr': '8213 University Ridge Drive',\n",
       "   'Block': '',\n",
       "   'Sector': '',\n",
       "   'Nbrhd': '',\n",
       "   'District': '',\n",
       "   'City': 'Charlotte',\n",
       "   'MetroArea': '',\n",
       "   'Subregion': 'Mecklenburg County',\n",
       "   'Region': 'North Carolina',\n",
       "   'RegionAbbr': 'NC',\n",
       "   'Territory': '',\n",
       "   'Zone': '',\n",
       "   'Postal': '28213',\n",
       "   'PostalExt': '4123',\n",
       "   'Country': 'USA',\n",
       "   'CntryName': 'United States',\n",
       "   'LangCode': 'ENG',\n",
       "   'Distance': 0,\n",
       "   'X': -80.737413987861,\n",
       "   'Y': 35.290282683117,\n",
       "   'DisplayX': -80.737413987861,\n",
       "   'DisplayY': 35.290282683117,\n",
       "   'Xmin': -80.738413987861,\n",
       "   'Xmax': -80.736413987861,\n",
       "   'Ymin': 35.289282683117,\n",
       "   'Ymax': 35.291282683117,\n",
       "   'ExInfo': ''},\n",
       "  'extent': {'xmin': -80.738413987861,\n",
       "   'ymin': 35.289282683117,\n",
       "   'xmax': -80.736413987861,\n",
       "   'ymax': 35.291282683117}}]"
      ]
     },
     "execution_count": 31,
     "metadata": {},
     "output_type": "execute_result"
    }
   ],
   "source": [
    "gis = GIS(url=\"https://wwww.arcgis.com\", username=\"myusername\", password=\"mypassword\")\n",
    "\n",
    "geocode_result = geocode(address=\"4213 University Ridge Street, Charlotte, NC\")\n",
    "\n",
    "geocode_result"
   ]
  },
  {
   "cell_type": "code",
   "execution_count": 19,
   "metadata": {},
   "outputs": [
    {
     "data": {
      "application/vnd.jupyter.widget-view+json": {
       "model_id": "c1805db86e8f42528b911c84a2867df3",
       "version_major": 2,
       "version_minor": 0
      },
      "text/plain": [
       "MapView(layout=Layout(height='400px', width='100%'))"
      ]
     },
     "metadata": {},
     "output_type": "display_data"
    },
    {
     "data": {
      "text/html": [
       "<div class=\"map-static-img-preview-c367b1a3-da5a-40e6-a1c8-6b0634f97699\"><img src=\"\"></img></div>"
      ],
      "text/plain": [
       "<IPython.core.display.HTML object>"
      ]
     },
     "metadata": {},
     "output_type": "display_data"
    },
    {
     "data": {
      "text/html": [
       "<div class=\"map-html-embed-preview-c367b1a3-da5a-40e6-a1c8-6b0634f97699\"></div>"
      ],
      "text/plain": [
       "<IPython.core.display.HTML object>"
      ]
     },
     "metadata": {},
     "output_type": "display_data"
    }
   ],
   "source": [
    "map = gis.map()\n",
    "map.basemap = \"topo-vector\"\n",
    "\n",
    "map.center = [34.027, -118.805]\n",
    "map.zoom = 13\n",
    "\n",
    "map  # display the map"
   ]
  },
  {
   "cell_type": "code",
   "execution_count": 26,
   "metadata": {},
   "outputs": [
    {
     "data": {
      "text/plain": [
       "[<Item title:\"Eventual Household Income  for Black people raised in low income families\" type:Web Map owner:padu12>,\n",
       " <Item title:\"Race/Ethnicity with Highest Denial Rate, 2020\" type:Web Map owner:padu12>,\n",
       " <Item title:\"Predominant Race of Home Purchasers 2019\" type:Web Map owner:padu12>,\n",
       " <Item title:\"Study Area\" type:Web Map owner:kvenkita_UNCCharlotte>,\n",
       " <Item title:\"Race/Ethnicity Dot Density Map 2019\" type:Web Map owner:kzager1>,\n",
       " <Item title:\"Home Purchase Other\" type:Web Map owner:padu12>,\n",
       " <Item title:\"Percent of households living in subsidized housing who are black non-Hispanic 2020\" type:Web Map owner:padu12>,\n",
       " <Item title:\"Median Household Income: White, 2019\" type:Web Map owner:padu12>,\n",
       " <Item title:\"Percent of households living in subsidized housing who are Hispanic 2020\" type:Web Map owner:padu12>,\n",
       " <Item title:\"Percent of total households that live in subsidized housing in 2018\" type:Web Map owner:padu12>]"
      ]
     },
     "execution_count": 26,
     "metadata": {},
     "output_type": "execute_result"
    }
   ],
   "source": [
    "from arcgis.gis import GIS\n",
    "\n",
    "gis = GIS()\n",
    "\n",
    "webmap_search = gis.content.search(\n",
    "  query=\"BIPOC 2022\",\n",
    "  item_type=\"Web Map\"\n",
    ")\n",
    "webmap_search"
   ]
  },
  {
   "cell_type": "code",
   "execution_count": 27,
   "metadata": {},
   "outputs": [
    {
     "data": {
      "text/html": [
       "<div class=\"item_container\" style=\"height: auto; overflow: hidden; border: 1px solid #cfcfcf; border-radius: 2px; background: #f6fafa; line-height: 1.21429em; padding: 10px;\">\n",
       "                    <div class=\"item_left\" style=\"width: 210px; float: left;\">\n",
       "                       <a href='https://www.arcgis.com/home/item.html?id=c7ee7624b2cb4d2699c65ec70ec7d674' target='_blank'>\n",
       "                        <img src='https://www.arcgis.com/sharing/rest//content/items/c7ee7624b2cb4d2699c65ec70ec7d674/info/thumbnail/_7B32093A27-096A-4964-8E6E-DCFD35FE9381_7D.png' class=\"itemThumbnail\">\n",
       "                       </a>\n",
       "                    </div>\n",
       "\n",
       "                    <div class=\"item_right\"     style=\"float: none; width: auto; overflow: hidden;\">\n",
       "                        <a href='https://www.arcgis.com/home/item.html?id=c7ee7624b2cb4d2699c65ec70ec7d674' target='_blank'><b>Eventual Household Income  for Black people raised in low income families</b>\n",
       "                        </a>\n",
       "                        <br/>BIPOC 2022<img src='https://www.arcgis.com/home/js/jsapi/esri/css/images/item_type_icons/maps16.png' style=\"vertical-align:middle;\">Web Map by padu12\n",
       "                        <br/>Last Modified: February 13, 2022\n",
       "                        <br/>0 comments, 35 views\n",
       "                    </div>\n",
       "                </div>\n",
       "                "
      ],
      "text/plain": [
       "<Item title:\"Eventual Household Income  for Black people raised in low income families\" type:Web Map owner:padu12>"
      ]
     },
     "execution_count": 27,
     "metadata": {},
     "output_type": "execute_result"
    }
   ],
   "source": [
    "webmap_item = webmap_search[0]\n",
    "webmap_item"
   ]
  },
  {
   "cell_type": "code",
   "execution_count": 32,
   "metadata": {},
   "outputs": [
    {
     "data": {
      "text/plain": [
       "<FeatureLayer url:\"https://services3.arcgis.com/GVgbJbqm8hXASVYi/arcgis/rest/services/Parks_and_Open_Space/FeatureServer/0\">"
      ]
     },
     "execution_count": 32,
     "metadata": {},
     "output_type": "execute_result"
    }
   ],
   "source": [
    "portal = GIS()\n",
    "\n",
    "points_layer = FeatureLayer(\n",
    "    \"https://services3.arcgis.com/GVgbJbqm8hXASVYi/arcgis/rest/services/Trailheads/FeatureServer/0\"\n",
    ")\n",
    "points_layer\n",
    "\n",
    "polylines_layer = FeatureLayer(\n",
    "    \"https://services3.arcgis.com/GVgbJbqm8hXASVYi/arcgis/rest/services/Trails/FeatureServer/0\"\n",
    ")\n",
    "polylines_layer\n",
    "\n",
    "polygons_layer = FeatureLayer(\n",
    "    \"https://services3.arcgis.com/GVgbJbqm8hXASVYi/arcgis/rest/services/Parks_and_Open_Space/FeatureServer/0\"\n",
    ")\n",
    "polygons_layer"
   ]
  },
  {
   "cell_type": "code",
   "execution_count": 33,
   "metadata": {},
   "outputs": [],
   "source": [
    "import matplotlib.pyplot as plt\n",
    "import pandas as pd\n",
    "from datetime import datetime as dt\n",
    "\n",
    "import arcgis\n",
    "import arcgis.geoanalytics\n",
    "from arcgis.gis import GIS\n",
    "from arcgis.geoanalytics.summarize_data import describe_dataset, aggregate_points\n",
    "from arcgis.geoanalytics.analyze_patterns import calculate_density, find_hot_spots\n",
    "from arcgis.geoanalytics.manage_data import clip_layer, run_python_script"
   ]
  },
  {
   "cell_type": "code",
   "execution_count": null,
   "metadata": {},
   "outputs": [],
   "source": []
  }
 ],
 "metadata": {
  "kernelspec": {
   "display_name": "Python 3",
   "language": "python",
   "name": "python3"
  },
  "language_info": {
   "codemirror_mode": {
    "name": "ipython",
    "version": 3
   },
   "file_extension": ".py",
   "mimetype": "text/x-python",
   "name": "python",
   "nbconvert_exporter": "python",
   "pygments_lexer": "ipython3",
   "version": "3.7.9"
  }
 },
 "nbformat": 4,
 "nbformat_minor": 4
}
